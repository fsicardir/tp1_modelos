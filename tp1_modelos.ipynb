{
  "nbformat": 4,
  "nbformat_minor": 0,
  "metadata": {
    "colab": {
      "name": "tp1_modelos.ipynb",
      "provenance": [],
      "collapsed_sections": [],
      "authorship_tag": "ABX9TyOuOHe6jcXF489hGZjoZa0a",
      "include_colab_link": true
    },
    "kernelspec": {
      "name": "python3",
      "display_name": "Python 3"
    },
    "language_info": {
      "name": "python"
    }
  },
  "cells": [
    {
      "cell_type": "markdown",
      "metadata": {
        "id": "view-in-github",
        "colab_type": "text"
      },
      "source": [
        "<a href=\"https://colab.research.google.com/github/fsicardir/tp1_modelos/blob/main/tp1_modelos.ipynb\" target=\"_parent\"><img src=\"https://colab.research.google.com/assets/colab-badge.svg\" alt=\"Open In Colab\"/></a>"
      ]
    },
    {
      "cell_type": "code",
      "metadata": {
        "id": "UNZmHGT21eDd"
      },
      "source": [
        "import heapq\n",
        "import requests\n",
        "import random\n",
        "from google.colab import files"
      ],
      "execution_count": 1,
      "outputs": []
    },
    {
      "cell_type": "code",
      "metadata": {
        "id": "DZJVoF5lE3Gh"
      },
      "source": [
        "def add_incompat(incompatibilities, name1, name2):\n",
        "  incomp = incompatibilities.get(name1, set()) | {name2}\n",
        "  incompatibilities[name1] = incomp\n",
        "\n",
        "def add_time(times, name, time):\n",
        "  times[name] = int(time)"
      ],
      "execution_count": 2,
      "outputs": []
    },
    {
      "cell_type": "code",
      "metadata": {
        "id": "_5z3LA1wDsOc"
      },
      "source": [
        "def parse_file(lines):\n",
        "  incompatibilities = {}\n",
        "  times = {}\n",
        "\n",
        "  for line in lines:\n",
        "    fields = line.split()\n",
        "    if fields[0] == 'e':\n",
        "      add_incompat(incompatibilities, fields[1], fields[2])\n",
        "      add_incompat(incompatibilities, fields[2], fields[1])\n",
        "    if fields[0] == 'n':\n",
        "      add_time(times, fields[1], fields[2])\n",
        "\n",
        "  return times, incompatibilities\n",
        "    "
      ],
      "execution_count": 3,
      "outputs": []
    },
    {
      "cell_type": "code",
      "metadata": {
        "id": "6D_gKdUl2GSL"
      },
      "source": [
        "\n",
        "class Cloth:\n",
        "  def __init__(self, name, time, incompatibles):\n",
        "    self.name = name\n",
        "    self.time = time\n",
        "    self.incompatibles = incompatibles\n",
        "\n",
        "  def __str__(self):\n",
        "    return f'Cloth({self.name}, {self.time}, {self.incompatibles})'\n",
        "\n",
        "  def __repr__(self):\n",
        "    return self.__str__()\n"
      ],
      "execution_count": 4,
      "outputs": []
    },
    {
      "cell_type": "code",
      "metadata": {
        "id": "ix7bxBoP9KvL"
      },
      "source": [
        "def create_clothes(times, incompats):\n",
        "  clothes = []\n",
        "  for name, time in times.items():\n",
        "    clothes.append(Cloth(name, time, incompats.get(name, set())))\n",
        "  return clothes"
      ],
      "execution_count": 5,
      "outputs": []
    },
    {
      "cell_type": "code",
      "metadata": {
        "id": "oGzMjJuY6X9i"
      },
      "source": [
        "def is_compatible(cloth, batch):\n",
        "  for c in batch:\n",
        "    if c.name in cloth.incompatibles:\n",
        "      return False\n",
        "  return True\n",
        "\n",
        "def _get_compatible_batch(cloth, batches, non_compatible):\n",
        "  if len(batches) == 0:\n",
        "    for elem in non_compatible:\n",
        "      heapq.heappush(batches, elem)\n",
        "    return 0, 0, set()\n",
        "  order, batch_time, batch = heapq.heappop(batches)\n",
        "  if is_compatible(cloth, batch):\n",
        "    for elem in non_compatible:\n",
        "      heapq.heappush(batches, elem)\n",
        "    return order, batch_time, batch\n",
        "  non_compatible.append((order, batch_time, batch))\n",
        "  return _get_compatible_batch(cloth, batches, non_compatible)\n",
        "\n",
        "def get_compatible_batch(cloth, batches):\n",
        "  return _get_compatible_batch(cloth, batches, [])"
      ],
      "execution_count": 6,
      "outputs": []
    },
    {
      "cell_type": "code",
      "metadata": {
        "id": "6mEOJeja4euI"
      },
      "source": [
        "def process(clothes):\n",
        "  batches = []\n",
        "  for cloth in clothes:\n",
        "    order, batch_time, batch = get_compatible_batch(cloth, batches)\n",
        "    if cloth.time > batch_time:\n",
        "      batch_time = cloth.time\n",
        "    batch.add(cloth)\n",
        "    heapq.heappush(batches, (-batch_time, batch_time, batch))\n",
        "  return batches\n",
        "    "
      ],
      "execution_count": 7,
      "outputs": []
    },
    {
      "cell_type": "code",
      "metadata": {
        "id": "CP794e85-cP9"
      },
      "source": [
        "lines = requests.get(\"https://modelosuno.okapii.com/Problemas/primer_problema.txt\").text.split('\\n')\n",
        "\n",
        "times, incompats = parse_file(lines)\n",
        "\n",
        "clothes = create_clothes(times, incompats)"
      ],
      "execution_count": 8,
      "outputs": []
    },
    {
      "cell_type": "code",
      "metadata": {
        "id": "mIrJXvXoDTfV",
        "colab": {
          "base_uri": "https://localhost:8080/"
        },
        "outputId": "ca537504-f7d4-408f-b316-592a026efbf8"
      },
      "source": [
        "batches = process(clothes)\n",
        "\n",
        "print(batches)"
      ],
      "execution_count": 9,
      "outputs": [
        {
          "output_type": "stream",
          "name": "stdout",
          "text": [
            "[(-10, 10, {Cloth(12, 9, {'11', '15', '5', '20', '13', '9', '16', '4', '10', '14', '19', '3'}), Cloth(17, 10, {'10', '1', '20', '18', '9', '19', '3'}), Cloth(2, 10, {'11', '5', '20', '1', '7', '8', '9', '4', '10', '6', '18', '3'})}), (-10, 10, {Cloth(7, 10, {'15', '5', '1', '8', '16', '4', '6', '2', '14', '3'}), Cloth(19, 4, {'11', '5', '1', '20', '12', '10', '17', '18', '3'}), Cloth(9, 9, {'11', '15', '1', '13', '12', '16', '10', '17', '2', '14', '18'})}), (-9, 9, {Cloth(10, 8, {'11', '15', '1', '13', '12', '9', '16', '17', '2', '14', '18', '19', '3'}), Cloth(6, 9, {'5', '1', '20', '13', '7', '8', '14', '4', '2', '15', '3'})}), (-9, 9, {Cloth(3, 9, {'11', '5', '1', '7', '8', '12', '4', '10', '17', '6', '2', '19'}), Cloth(13, 5, {'11', '15', '5', '20', '12', '9', '4', '10', '16', '6', '14'}), Cloth(18, 4, {'11', '20', '9', '4', '10', '17', '2', '19'})}), (-8, 8, {Cloth(11, 6, {'15', '20', '13', '12', '9', '4', '10', '16', '2', '14', '18', '19', '3'}), Cloth(1, 8, {'5', '7', '8', '9', '4', '10', '17', '6', '2', '19', '3'})}), (-2, 2, {Cloth(8, 2, {'5', '1', '7', '16', '4', '6', '2', '15', '3'})}), (-7, 7, {Cloth(14, 1, {'11', '5', '13', '7', '12', '9', '16', '10', '6', '15'}), Cloth(4, 7, {'11', '5', '1', '20', '13', '7', '8', '12', '6', '2', '18', '3'})}), (-5, 5, {Cloth(5, 3, {'1', '13', '7', '8', '12', '4', '6', '2', '14', '19', '3'}), Cloth(15, 5, {'11', '13', '7', '8', '12', '9', '16', '10', '6', '14'})}), (-9, 9, {Cloth(16, 9, {'11', '15', '13', '7', '8', '12', '9', '10', '14'}), Cloth(20, 5, {'11', '13', '12', '4', '17', '6', '2', '18', '19'})})]\n"
          ]
        }
      ]
    },
    {
      "cell_type": "code",
      "metadata": {
        "id": "-8f0wPjBKlU0"
      },
      "source": [
        "def results(batches):\n",
        "  acc = 0\n",
        "  for order, time, clothes in batches:\n",
        "    acc += time\n",
        "  return len(batches), acc"
      ],
      "execution_count": 10,
      "outputs": []
    },
    {
      "cell_type": "code",
      "metadata": {
        "colab": {
          "base_uri": "https://localhost:8080/"
        },
        "id": "EZsXnOXN_6jT",
        "outputId": "9e699be8-d994-4203-da0e-e1076a1f6227"
      },
      "source": [
        "num, total_time = results(batches)\n",
        "print(f'number of batches: {num}')\n",
        "print(f'total time: {total_time}')"
      ],
      "execution_count": 11,
      "outputs": [
        {
          "output_type": "stream",
          "name": "stdout",
          "text": [
            "number of batches: 9\n",
            "total time: 69\n"
          ]
        }
      ]
    },
    {
      "cell_type": "code",
      "metadata": {
        "colab": {
          "base_uri": "https://localhost:8080/"
        },
        "id": "5j3xMJIbDLkv",
        "outputId": "a59b46fc-6c0a-44f2-8586-f9623c9f75cd"
      },
      "source": [
        "min_time = float('Inf')\n",
        "best_order = []\n",
        "for i in range(10000):\n",
        "  s = random.sample(clothes, len(clothes))\n",
        "  b = process(s)\n",
        "  num, total_time = results(b)\n",
        "  if total_time < min_time:\n",
        "    min_time = total_time\n",
        "    best_order = b\n",
        "\n",
        "print(f'number of batches: {len(best_order)}')\n",
        "print(f'total time: {min_time}')"
      ],
      "execution_count": 12,
      "outputs": [
        {
          "output_type": "stream",
          "name": "stdout",
          "text": [
            "number of batches: 8\n",
            "total time: 61\n"
          ]
        }
      ]
    },
    {
      "cell_type": "code",
      "metadata": {
        "id": "qkgvu7B_MY2v"
      },
      "source": [
        "def write_solution(batches, filename):\n",
        "  with open(filename, 'w') as file:\n",
        "    i = 1\n",
        "    for batch in batches:\n",
        "      for cloth in batch[-1]:\n",
        "        file.write(f'{cloth.name} {i}\\n')\n",
        "      i += 1\n"
      ],
      "execution_count": 13,
      "outputs": []
    },
    {
      "cell_type": "code",
      "metadata": {
        "colab": {
          "base_uri": "https://localhost:8080/",
          "height": 17
        },
        "id": "Uks2ukfPOVEr",
        "outputId": "b77b6114-0628-4cf2-f0f7-cd99a789e773"
      },
      "source": [
        "filename = '/entrega_1.txt'\n",
        "write_solution(best_order, filename)"
      ],
      "execution_count": 14,
      "outputs": [
        {
          "output_type": "display_data",
          "data": {
            "application/javascript": [
              "\n",
              "    async function download(id, filename, size) {\n",
              "      if (!google.colab.kernel.accessAllowed) {\n",
              "        return;\n",
              "      }\n",
              "      const div = document.createElement('div');\n",
              "      const label = document.createElement('label');\n",
              "      label.textContent = `Downloading \"${filename}\": `;\n",
              "      div.appendChild(label);\n",
              "      const progress = document.createElement('progress');\n",
              "      progress.max = size;\n",
              "      div.appendChild(progress);\n",
              "      document.body.appendChild(div);\n",
              "\n",
              "      const buffers = [];\n",
              "      let downloaded = 0;\n",
              "\n",
              "      const channel = await google.colab.kernel.comms.open(id);\n",
              "      // Send a message to notify the kernel that we're ready.\n",
              "      channel.send({})\n",
              "\n",
              "      for await (const message of channel.messages) {\n",
              "        // Send a message to notify the kernel that we're ready.\n",
              "        channel.send({})\n",
              "        if (message.buffers) {\n",
              "          for (const buffer of message.buffers) {\n",
              "            buffers.push(buffer);\n",
              "            downloaded += buffer.byteLength;\n",
              "            progress.value = downloaded;\n",
              "          }\n",
              "        }\n",
              "      }\n",
              "      const blob = new Blob(buffers, {type: 'application/binary'});\n",
              "      const a = document.createElement('a');\n",
              "      a.href = window.URL.createObjectURL(blob);\n",
              "      a.download = filename;\n",
              "      div.appendChild(a);\n",
              "      a.click();\n",
              "      div.remove();\n",
              "    }\n",
              "  "
            ],
            "text/plain": [
              "<IPython.core.display.Javascript object>"
            ]
          },
          "metadata": {}
        },
        {
          "output_type": "display_data",
          "data": {
            "application/javascript": [
              "download(\"download_29f51268-f454-4d9f-b44b-8a46e22c134f\", \"entrega_1.txt\", 91)"
            ],
            "text/plain": [
              "<IPython.core.display.Javascript object>"
            ]
          },
          "metadata": {}
        }
      ]
    },
    {
      "cell_type": "code",
      "metadata": {
        "id": "Jb012OsKPLDx"
      },
      "source": [
        "files.download(filename)"
      ],
      "execution_count": 14,
      "outputs": []
    }
  ]
}